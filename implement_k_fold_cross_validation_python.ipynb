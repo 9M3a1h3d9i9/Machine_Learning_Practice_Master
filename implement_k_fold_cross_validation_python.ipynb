{
  "nbformat": 4,
  "nbformat_minor": 0,
  "metadata": {
    "colab": {
      "provenance": [],
      "authorship_tag": "ABX9TyPW1WLM82RWe4NNbO3Ljlvo",
      "include_colab_link": true
    },
    "kernelspec": {
      "name": "python3",
      "display_name": "Python 3"
    },
    "language_info": {
      "name": "python"
    }
  },
  "cells": [
    {
      "cell_type": "markdown",
      "metadata": {
        "id": "view-in-github",
        "colab_type": "text"
      },
      "source": [
        "<a href=\"https://colab.research.google.com/github/9M3a1h3d9i9/Machine_Learning_Practice_Master/blob/Develope/implement_k_fold_cross_validation_python.ipynb\" target=\"_parent\"><img src=\"https://colab.research.google.com/assets/colab-badge.svg\" alt=\"Open In Colab\"/></a>"
      ]
    },
    {
      "cell_type": "markdown",
      "source": [
        "# In the Name of God\n",
        "\n",
        "# Mohammad Mahdi Shafighy\n",
        "\n",
        "# implement k fold cross validation python"
      ],
      "metadata": {
        "id": "pn0POiCS6j9o"
      }
    },
    {
      "cell_type": "code",
      "execution_count": 2,
      "metadata": {
        "id": "sFQWTG134bjb"
      },
      "outputs": [],
      "source": [
        "import numpy as np\n",
        "\n",
        "def cross_validation(X, y, model, k=5):\n",
        "    n_samples = len(X)\n",
        "    indices = np.arange(n_samples)\n",
        "    # Shuffle the data for random partitioning\n",
        "    np.random.shuffle(indices)\n",
        "    # size any fold\n",
        "    fold_size = n_samples // k\n",
        "\n",
        "    scores = []\n",
        "\n",
        "    for i in range(k):\n",
        "        # Determining fold test indices and training\n",
        "        test_indices = indices[i * fold_size:(i + 1) * fold_size]\n",
        "        train_indices = np.concatenate([indices[:i * fold_size], indices[(i + 1) * fold_size:]])\n",
        "\n",
        "        X_train, y_train = X[train_indices], y[train_indices]\n",
        "        X_test, y_test = X[test_indices], y[test_indices]\n",
        "\n",
        "        model.fit(X_train, y_train)\n",
        "\n",
        "        # Accuracy and score calculation\n",
        "        accuracy = np.mean(model.predict(X_test) == y_test)\n",
        "        scores.append(accuracy)\n",
        "\n",
        "    return np.mean(scores), scores\n"
      ]
    },
    {
      "cell_type": "markdown",
      "source": [
        "# مثال"
      ],
      "metadata": {
        "id": "Qt_kZ-r85-vw"
      }
    },
    {
      "cell_type": "code",
      "source": [
        "from sklearn.datasets import make_classification\n",
        "from sklearn.tree import DecisionTreeClassifier\n",
        "\n",
        "# Generate pseudo-random data\n",
        "X, y = make_classification(n_samples=100, n_features=5, random_state= 43)\n",
        "\n",
        "model = DecisionTreeClassifier(random_state=42)\n",
        "\n",
        "# Cross Validation\n",
        "mean_score, all_scores = cross_validation(X, y, model, k=5)\n",
        "print(\"میانگین دقت:\", mean_score)\n",
        "print(\"امتیازات هر فولد:\", all_scores)\n"
      ],
      "metadata": {
        "colab": {
          "base_uri": "https://localhost:8080/"
        },
        "id": "t22hfVpe5_DZ",
        "outputId": "b21e51d2-b3f5-4d7f-8c61-0a53bad9aef2"
      },
      "execution_count": 5,
      "outputs": [
        {
          "output_type": "stream",
          "name": "stdout",
          "text": [
            "میانگین دقت: 0.9\n",
            "امتیازات هر فولد: [0.7, 1.0, 0.95, 0.9, 0.95]\n"
          ]
        }
      ]
    },
    {
      "cell_type": "markdown",
      "source": [
        "# پس بهتر است از قسمت چهارم فولد استفاده شود ، چون دقت پیش بینی آن به 100 رسیده است"
      ],
      "metadata": {
        "id": "mT81hfAx6Uxg"
      }
    }
  ]
}