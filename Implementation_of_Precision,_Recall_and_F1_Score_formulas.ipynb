{
  "nbformat": 4,
  "nbformat_minor": 0,
  "metadata": {
    "colab": {
      "provenance": [],
      "authorship_tag": "ABX9TyNJakloW8oWDB0cWMIDWmP8",
      "include_colab_link": true
    },
    "kernelspec": {
      "name": "python3",
      "display_name": "Python 3"
    },
    "language_info": {
      "name": "python"
    }
  },
  "cells": [
    {
      "cell_type": "markdown",
      "metadata": {
        "id": "view-in-github",
        "colab_type": "text"
      },
      "source": [
        "<a href=\"https://colab.research.google.com/github/9M3a1h3d9i9/Machine_Learning_Practice_Master/blob/Develope/Implementation_of_Precision%2C_Recall_and_F1_Score_formulas.ipynb\" target=\"_parent\"><img src=\"https://colab.research.google.com/assets/colab-badge.svg\" alt=\"Open In Colab\"/></a>"
      ]
    },
    {
      "cell_type": "markdown",
      "source": [
        "# In The name of GOD\n",
        "\n",
        "# Mohammad Mahdi Shafighy\n",
        "\n",
        "# Implementation of Precision, Recall and F1-Score formulas"
      ],
      "metadata": {
        "id": "Fa-_SL07_uH9"
      }
    },
    {
      "cell_type": "code",
      "source": [
        "def precision(y_true, y_pred):\n",
        "    # True Positives و False Positives  ->              TP   FP\n",
        "    tp = sum((y_true == 1) & (y_pred == 1))\n",
        "    fp = sum((y_true == 0) & (y_pred == 1))\n",
        "    return tp / (tp + fp) if (tp + fp) != 0 else 0\n",
        "\n",
        "def recall(y_true, y_pred):\n",
        "    # True Positives و False Negatives  ->              TP   FN\n",
        "    tp = sum((y_true == 1) & (y_pred == 1))\n",
        "    fn = sum((y_true == 1) & (y_pred == 0))\n",
        "    return tp / (tp + fn) if (tp + fn) != 0 else 0\n",
        "\n",
        "def f1_score(y_true, y_pred):\n",
        "    p = precision(y_true, y_pred)\n",
        "    r = recall(y_true, y_pred)\n",
        "    return 2 * (p * r) / (p + r) if (p + r) != 0 else 0"
      ],
      "metadata": {
        "id": "Hiq21pV5_to0"
      },
      "execution_count": null,
      "outputs": []
    },
    {
      "cell_type": "code",
      "source": [
        "import numpy as np\n",
        "seede = 43\n",
        "# y_true = np.array([1, 0, 1, 1, 0, 1, 0, 0, 1, 0, 1, 1, 0])\n",
        "# y_pred = np.array([1, 0, 1, 0, 0, 0, 1, 1, 0, 1, 1, 0, 1])\n",
        "\n",
        "                            # Precision: 0.42857142857142855\n",
        "                            # Recall   : 0.42857142857142855\n",
        "                            # F1-Score : 0.42857142857142855\n",
        "\n",
        "\n",
        "# y_true = np.array([1, 0, 0, 1, 1, 0, 1, 0, 1, 0, 0, 1, 0, 1, 1, 0, 1, 0, 0, 1, 0, 1, 1, 0])\n",
        "# y_pred = np.array([1, 0, 1, 0, 1, 0, 0, 1, 1, 0, 1, 1, 0, 1, 1, 0, 1, 0, 0, 1, 0, 1, 1, 0])\n",
        "\n",
        "                            # Precision: 0.7692307692307693\n",
        "                            # Recall   : 0.8333333333333334\n",
        "                            # F1-Score : 0.8\n",
        "\n",
        "y_true = np.random.randint(0, 2, 1000)\n",
        "y_pred = np.random.randint(0, 2, 1000)\n",
        "\n",
        "print(\"Precision:\", precision(y_true, y_pred))\n",
        "print(\"Recall   :\", recall(y_true, y_pred))\n",
        "print(\"F1-Score :\", f1_score(y_true, y_pred))"
      ],
      "metadata": {
        "id": "_oSAQ3f_spCd",
        "colab": {
          "base_uri": "https://localhost:8080/"
        },
        "outputId": "173bdc95-92e7-47a3-eaa0-cf15462ab1e5"
      },
      "execution_count": 22,
      "outputs": [
        {
          "output_type": "stream",
          "name": "stdout",
          "text": [
            "Precision: 0.504\n",
            "Recall   : 0.4931506849315068\n",
            "F1-Score : 0.4985163204747774\n"
          ]
        }
      ]
    }
  ]
}